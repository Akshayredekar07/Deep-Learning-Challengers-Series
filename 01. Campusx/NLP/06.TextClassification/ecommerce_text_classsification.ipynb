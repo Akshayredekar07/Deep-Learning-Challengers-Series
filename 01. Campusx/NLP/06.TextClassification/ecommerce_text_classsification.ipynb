{
 "cells": [
  {
   "cell_type": "code",
   "execution_count": 1,
   "id": "2982a2f0",
   "metadata": {},
   "outputs": [],
   "source": [
    "# https://www.kaggle.com/code/sugataghosh/e-commerce-text-classification-tf-idf-word2vec#Data"
   ]
  },
  {
   "cell_type": "code",
   "execution_count": null,
   "id": "bc06de80",
   "metadata": {},
   "outputs": [],
   "source": [
    "# https://www.kaggle.com/code/cpmpml/spell-checker-using-word2vec"
   ]
  }
 ],
 "metadata": {
  "kernelspec": {
   "display_name": "Python 3",
   "language": "python",
   "name": "python3"
  },
  "language_info": {
   "codemirror_mode": {
    "name": "ipython",
    "version": 3
   },
   "file_extension": ".py",
   "mimetype": "text/x-python",
   "name": "python",
   "nbconvert_exporter": "python",
   "pygments_lexer": "ipython3",
   "version": "3.10.9"
  }
 },
 "nbformat": 4,
 "nbformat_minor": 5
}
