{
 "cells": [
  {
   "cell_type": "code",
   "execution_count": 19,
   "metadata": {},
   "outputs": [],
   "source": [
    "import pandas as pd\n",
    "import numpy as np\n",
    "\n",
    "from IPython.display import Image\n",
    "from tqdm import tqdm\n",
    "\n",
    "from sklearn.preprocessing import LabelEncoder\n",
    "from sklearn.metrics import confusion_matrix, accuracy_score\n",
    "\n",
    "import re\n",
    "import matplotlib.pyplot as plt"
   ]
  },
  {
   "cell_type": "code",
   "execution_count": 1,
   "metadata": {},
   "outputs": [
    {
     "name": "stderr",
     "output_type": "stream",
     "text": [
      "Downloading...\n",
      "From: https://drive.google.com/uc?id=1POmzYEQZgZVqJO3F_cyNcd4QmoNE_mCv\n",
      "To: d:\\DEEP LEARNING\\04. Shrikant Verma DL\\Part 04-RNNs\\S01.IntoductionRNN\\bbc-news-data.csv\n",
      "\n",
      "  0%|          | 0.00/5.08M [00:00<?, ?B/s]\n",
      " 10%|█         | 524k/5.08M [00:00<00:02, 1.61MB/s]\n",
      " 21%|██        | 1.05M/5.08M [00:00<00:02, 1.87MB/s]\n",
      " 31%|███       | 1.57M/5.08M [00:00<00:01, 1.98MB/s]\n",
      " 41%|████▏     | 2.10M/5.08M [00:01<00:01, 2.09MB/s]\n",
      " 52%|█████▏    | 2.62M/5.08M [00:01<00:00, 2.56MB/s]\n",
      " 72%|███████▏  | 3.67M/5.08M [00:01<00:00, 3.75MB/s]\n",
      " 93%|█████████▎| 4.72M/5.08M [00:01<00:00, 4.62MB/s]\n",
      "100%|██████████| 5.08M/5.08M [00:01<00:00, 3.19MB/s]\n"
     ]
    }
   ],
   "source": [
    "# !gdown 1POmzYEQZgZVqJO3F_cyNcd4QmoNE_mCv"
   ]
  },
  {
   "cell_type": "code",
   "execution_count": null,
   "metadata": {},
   "outputs": [],
   "source": [
    "# df = pd.read_csv(\n",
    "#     'bbc-news-data.csv',\n",
    "#     skiprows=1,                  # Skip the first row\n",
    "#     nrows=100,                   # Read only the first 100 rows\n",
    "#     names=['ID', 'Category', 'Text', 'Date'],  # Custom column names\n",
    "#     dtype={'ID': int, 'Category': str},  # Define column data types\n",
    "#     na_values=['?', 'NA'],       # Treat '?' and 'NA' as missing values\n",
    "#     parse_dates=['Date'],        # Parse the 'Date' column as datetime\n",
    "#     encoding='utf-8'             # Use UTF-8 encoding\n",
    "# )\n"
   ]
  },
  {
   "cell_type": "code",
   "execution_count": 20,
   "metadata": {},
   "outputs": [
    {
     "data": {
      "text/html": [
       "<div>\n",
       "<style scoped>\n",
       "    .dataframe tbody tr th:only-of-type {\n",
       "        vertical-align: middle;\n",
       "    }\n",
       "\n",
       "    .dataframe tbody tr th {\n",
       "        vertical-align: top;\n",
       "    }\n",
       "\n",
       "    .dataframe thead th {\n",
       "        text-align: right;\n",
       "    }\n",
       "</style>\n",
       "<table border=\"1\" class=\"dataframe\">\n",
       "  <thead>\n",
       "    <tr style=\"text-align: right;\">\n",
       "      <th></th>\n",
       "      <th>category</th>\n",
       "      <th>filename</th>\n",
       "      <th>title</th>\n",
       "      <th>content</th>\n",
       "    </tr>\n",
       "  </thead>\n",
       "  <tbody>\n",
       "    <tr>\n",
       "      <th>0</th>\n",
       "      <td>business</td>\n",
       "      <td>001.txt</td>\n",
       "      <td>Ad sales boost Time Warner profit</td>\n",
       "      <td>Quarterly profits at US media giant TimeWarne...</td>\n",
       "    </tr>\n",
       "    <tr>\n",
       "      <th>1</th>\n",
       "      <td>business</td>\n",
       "      <td>002.txt</td>\n",
       "      <td>Dollar gains on Greenspan speech</td>\n",
       "      <td>The dollar has hit its highest level against ...</td>\n",
       "    </tr>\n",
       "    <tr>\n",
       "      <th>2</th>\n",
       "      <td>business</td>\n",
       "      <td>003.txt</td>\n",
       "      <td>Yukos unit buyer faces loan claim</td>\n",
       "      <td>The owners of embattled Russian oil giant Yuk...</td>\n",
       "    </tr>\n",
       "    <tr>\n",
       "      <th>3</th>\n",
       "      <td>business</td>\n",
       "      <td>004.txt</td>\n",
       "      <td>High fuel prices hit BA's profits</td>\n",
       "      <td>British Airways has blamed high fuel prices f...</td>\n",
       "    </tr>\n",
       "    <tr>\n",
       "      <th>4</th>\n",
       "      <td>business</td>\n",
       "      <td>005.txt</td>\n",
       "      <td>Pernod takeover talk lifts Domecq</td>\n",
       "      <td>Shares in UK drinks and food firm Allied Dome...</td>\n",
       "    </tr>\n",
       "    <tr>\n",
       "      <th>...</th>\n",
       "      <td>...</td>\n",
       "      <td>...</td>\n",
       "      <td>...</td>\n",
       "      <td>...</td>\n",
       "    </tr>\n",
       "    <tr>\n",
       "      <th>2220</th>\n",
       "      <td>tech</td>\n",
       "      <td>397.txt</td>\n",
       "      <td>BT program to beat dialler scams</td>\n",
       "      <td>BT is introducing two initiatives to help bea...</td>\n",
       "    </tr>\n",
       "    <tr>\n",
       "      <th>2221</th>\n",
       "      <td>tech</td>\n",
       "      <td>398.txt</td>\n",
       "      <td>Spam e-mails tempt net shoppers</td>\n",
       "      <td>Computer users across the world continue to i...</td>\n",
       "    </tr>\n",
       "    <tr>\n",
       "      <th>2222</th>\n",
       "      <td>tech</td>\n",
       "      <td>399.txt</td>\n",
       "      <td>Be careful how you code</td>\n",
       "      <td>A new European directive could put software w...</td>\n",
       "    </tr>\n",
       "    <tr>\n",
       "      <th>2223</th>\n",
       "      <td>tech</td>\n",
       "      <td>400.txt</td>\n",
       "      <td>US cyber security chief resigns</td>\n",
       "      <td>The man making sure US computer networks are ...</td>\n",
       "    </tr>\n",
       "    <tr>\n",
       "      <th>2224</th>\n",
       "      <td>tech</td>\n",
       "      <td>401.txt</td>\n",
       "      <td>Losing yourself in online gaming</td>\n",
       "      <td>Online role playing games are time-consuming,...</td>\n",
       "    </tr>\n",
       "  </tbody>\n",
       "</table>\n",
       "<p>2225 rows × 4 columns</p>\n",
       "</div>"
      ],
      "text/plain": [
       "      category filename                              title  \\\n",
       "0     business  001.txt  Ad sales boost Time Warner profit   \n",
       "1     business  002.txt   Dollar gains on Greenspan speech   \n",
       "2     business  003.txt  Yukos unit buyer faces loan claim   \n",
       "3     business  004.txt  High fuel prices hit BA's profits   \n",
       "4     business  005.txt  Pernod takeover talk lifts Domecq   \n",
       "...        ...      ...                                ...   \n",
       "2220      tech  397.txt   BT program to beat dialler scams   \n",
       "2221      tech  398.txt    Spam e-mails tempt net shoppers   \n",
       "2222      tech  399.txt            Be careful how you code   \n",
       "2223      tech  400.txt    US cyber security chief resigns   \n",
       "2224      tech  401.txt   Losing yourself in online gaming   \n",
       "\n",
       "                                                content  \n",
       "0      Quarterly profits at US media giant TimeWarne...  \n",
       "1      The dollar has hit its highest level against ...  \n",
       "2      The owners of embattled Russian oil giant Yuk...  \n",
       "3      British Airways has blamed high fuel prices f...  \n",
       "4      Shares in UK drinks and food firm Allied Dome...  \n",
       "...                                                 ...  \n",
       "2220   BT is introducing two initiatives to help bea...  \n",
       "2221   Computer users across the world continue to i...  \n",
       "2222   A new European directive could put software w...  \n",
       "2223   The man making sure US computer networks are ...  \n",
       "2224   Online role playing games are time-consuming,...  \n",
       "\n",
       "[2225 rows x 4 columns]"
      ]
     },
     "execution_count": 20,
     "metadata": {},
     "output_type": "execute_result"
    }
   ],
   "source": [
    "df = pd.read_csv('bbc-news-data.csv', encoding='utf-8', delimiter='\\t')\n",
    "df"
   ]
  },
  {
   "cell_type": "code",
   "execution_count": 12,
   "metadata": {},
   "outputs": [
    {
     "name": "stdout",
     "output_type": "stream",
     "text": [
      "(2225, 4)\n",
      "(2225, 4)\n"
     ]
    },
    {
     "data": {
      "text/html": [
       "<div>\n",
       "<style scoped>\n",
       "    .dataframe tbody tr th:only-of-type {\n",
       "        vertical-align: middle;\n",
       "    }\n",
       "\n",
       "    .dataframe tbody tr th {\n",
       "        vertical-align: top;\n",
       "    }\n",
       "\n",
       "    .dataframe thead th {\n",
       "        text-align: right;\n",
       "    }\n",
       "</style>\n",
       "<table border=\"1\" class=\"dataframe\">\n",
       "  <thead>\n",
       "    <tr style=\"text-align: right;\">\n",
       "      <th></th>\n",
       "      <th>category</th>\n",
       "      <th>filename</th>\n",
       "      <th>title</th>\n",
       "      <th>content</th>\n",
       "    </tr>\n",
       "  </thead>\n",
       "  <tbody>\n",
       "    <tr>\n",
       "      <th>0</th>\n",
       "      <td>business</td>\n",
       "      <td>001.txt</td>\n",
       "      <td>Ad sales boost Time Warner profit</td>\n",
       "      <td>Quarterly profits at US media giant TimeWarne...</td>\n",
       "    </tr>\n",
       "    <tr>\n",
       "      <th>1</th>\n",
       "      <td>business</td>\n",
       "      <td>002.txt</td>\n",
       "      <td>Dollar gains on Greenspan speech</td>\n",
       "      <td>The dollar has hit its highest level against ...</td>\n",
       "    </tr>\n",
       "    <tr>\n",
       "      <th>2</th>\n",
       "      <td>business</td>\n",
       "      <td>003.txt</td>\n",
       "      <td>Yukos unit buyer faces loan claim</td>\n",
       "      <td>The owners of embattled Russian oil giant Yuk...</td>\n",
       "    </tr>\n",
       "    <tr>\n",
       "      <th>3</th>\n",
       "      <td>business</td>\n",
       "      <td>004.txt</td>\n",
       "      <td>High fuel prices hit BA's profits</td>\n",
       "      <td>British Airways has blamed high fuel prices f...</td>\n",
       "    </tr>\n",
       "    <tr>\n",
       "      <th>4</th>\n",
       "      <td>business</td>\n",
       "      <td>005.txt</td>\n",
       "      <td>Pernod takeover talk lifts Domecq</td>\n",
       "      <td>Shares in UK drinks and food firm Allied Dome...</td>\n",
       "    </tr>\n",
       "    <tr>\n",
       "      <th>...</th>\n",
       "      <td>...</td>\n",
       "      <td>...</td>\n",
       "      <td>...</td>\n",
       "      <td>...</td>\n",
       "    </tr>\n",
       "    <tr>\n",
       "      <th>2220</th>\n",
       "      <td>tech</td>\n",
       "      <td>397.txt</td>\n",
       "      <td>BT program to beat dialler scams</td>\n",
       "      <td>BT is introducing two initiatives to help bea...</td>\n",
       "    </tr>\n",
       "    <tr>\n",
       "      <th>2221</th>\n",
       "      <td>tech</td>\n",
       "      <td>398.txt</td>\n",
       "      <td>Spam e-mails tempt net shoppers</td>\n",
       "      <td>Computer users across the world continue to i...</td>\n",
       "    </tr>\n",
       "    <tr>\n",
       "      <th>2222</th>\n",
       "      <td>tech</td>\n",
       "      <td>399.txt</td>\n",
       "      <td>Be careful how you code</td>\n",
       "      <td>A new European directive could put software w...</td>\n",
       "    </tr>\n",
       "    <tr>\n",
       "      <th>2223</th>\n",
       "      <td>tech</td>\n",
       "      <td>400.txt</td>\n",
       "      <td>US cyber security chief resigns</td>\n",
       "      <td>The man making sure US computer networks are ...</td>\n",
       "    </tr>\n",
       "    <tr>\n",
       "      <th>2224</th>\n",
       "      <td>tech</td>\n",
       "      <td>401.txt</td>\n",
       "      <td>Losing yourself in online gaming</td>\n",
       "      <td>Online role playing games are time-consuming,...</td>\n",
       "    </tr>\n",
       "  </tbody>\n",
       "</table>\n",
       "<p>2225 rows × 4 columns</p>\n",
       "</div>"
      ],
      "text/plain": [
       "      category filename                              title  \\\n",
       "0     business  001.txt  Ad sales boost Time Warner profit   \n",
       "1     business  002.txt   Dollar gains on Greenspan speech   \n",
       "2     business  003.txt  Yukos unit buyer faces loan claim   \n",
       "3     business  004.txt  High fuel prices hit BA's profits   \n",
       "4     business  005.txt  Pernod takeover talk lifts Domecq   \n",
       "...        ...      ...                                ...   \n",
       "2220      tech  397.txt   BT program to beat dialler scams   \n",
       "2221      tech  398.txt    Spam e-mails tempt net shoppers   \n",
       "2222      tech  399.txt            Be careful how you code   \n",
       "2223      tech  400.txt    US cyber security chief resigns   \n",
       "2224      tech  401.txt   Losing yourself in online gaming   \n",
       "\n",
       "                                                content  \n",
       "0      Quarterly profits at US media giant TimeWarne...  \n",
       "1      The dollar has hit its highest level against ...  \n",
       "2      The owners of embattled Russian oil giant Yuk...  \n",
       "3      British Airways has blamed high fuel prices f...  \n",
       "4      Shares in UK drinks and food firm Allied Dome...  \n",
       "...                                                 ...  \n",
       "2220   BT is introducing two initiatives to help bea...  \n",
       "2221   Computer users across the world continue to i...  \n",
       "2222   A new European directive could put software w...  \n",
       "2223   The man making sure US computer networks are ...  \n",
       "2224   Online role playing games are time-consuming,...  \n",
       "\n",
       "[2225 rows x 4 columns]"
      ]
     },
     "execution_count": 12,
     "metadata": {},
     "output_type": "execute_result"
    }
   ],
   "source": [
    "# Dropping the empty sub-title\n",
    "\"\"\"\n",
    "This script performs the following operations on a DataFrame `df`:\n",
    "1. Prints the initial shape of the DataFrame.\n",
    "2. Drops rows where either the 'title' or 'content' columns have null values.\n",
    "3. Resets the index of the DataFrame after dropping rows.\n",
    "4. Prints the shape of the DataFrame after dropping rows.\n",
    "5. Displays the resulting DataFrame.\n",
    "\"\"\"\n",
    "print(df.shape)\n",
    "\n",
    "df = df[((~df.title.isnull()) & (~df.content.isnull()))].reset_index(drop=True)\n",
    "print(df.shape)\n",
    "\n",
    "df"
   ]
  },
  {
   "cell_type": "code",
   "execution_count": 21,
   "metadata": {},
   "outputs": [
    {
     "data": {
      "text/plain": [
       "Text(0, 0.5, 'Count')"
      ]
     },
     "execution_count": 21,
     "metadata": {},
     "output_type": "execute_result"
    },
    {
     "data": {
      "image/png": "[encoded data removed]",
      "text/plain": [
       "<Figure size 640x480 with 1 Axes>"
      ]
     },
     "metadata": {},
     "output_type": "display_data"
    }
   ],
   "source": [
    "plt.bar(df.category.value_counts().index, df.category.value_counts().values)\n",
    "plt.title(\"Category distribution\")\n",
    "plt.xlabel(\"Category\")\n",
    "plt.ylabel(\"Count\")"
   ]
  },
  {
   "cell_type": "code",
   "execution_count": 22,
   "metadata": {},
   "outputs": [
    {
     "name": "stdout",
     "output_type": "stream",
     "text": [
      "Title: Federer joins all-time greats\n",
      "Category: sport\n"
     ]
    }
   ],
   "source": [
    "ind=1807\n",
    "print(f'Title: {df.title[ind]}')\n",
    "print(f'Category: {df.category[ind]}')"
   ]
  },
  {
   "cell_type": "markdown",
   "metadata": {},
   "source": [
    "#### Why MLP would not perform well for this problem?\n",
    "\n",
    "Before moving to MLP, let's understand what is temporal/Sequential data.\n",
    "\n",
    "**Temporal component:** Temporal means related to time. As we speak or write we do it in a sequence over time and it may not make sense when we change the order. Such type of data is called sequential/temporal data."
   ]
  },
  {
   "cell_type": "markdown",
   "metadata": {},
   "source": [
    "#### Multilayer Perceptron\n",
    "\n",
    "Let's first build a MultiLayer Perceptron to train a FeedForward NeuralNetwork to classify the given sentence into any of the 5 categories.\n",
    "\n",
    "For the sake of understanding let's look at one example\n",
    "\n",
    "**Example sentence:**\n",
    "\n",
    "Title: \"Federer joins all time greats\""
   ]
  },
  {
   "cell_type": "markdown",
   "metadata": {},
   "source": [
    "The words in the example can be thought of as an individual time step in the sequence.\n",
    "```plaintext\n",
    "t-4 t-3 ... ... t\n",
    "Federer joins all time greats\n",
    "Xt-4 Xt-3 ... ... Xt\n",
    "```"
   ]
  },
  {
   "cell_type": "markdown",
   "metadata": {},
   "source": [
    "<img src=\"image.png\" alt=\"Image\" style=\"width:50%;\">\n"
   ]
  },
  {
   "cell_type": "markdown",
   "metadata": {},
   "source": [
    "### What is missing in this architecture?\n",
    "\n",
    "* **All inputs at once:**\n",
    "\n",
    "    A simple Feed Forward NN type of architecture assumes that all the inputs(all words from the example) come from a single time steps t. But in reality we speak/write one word after the other so there is mechanism of word order this architecture.\n",
    "\n",
    "* **Inputs of varying length:**\n",
    "\n",
    "    A MLP architecture can handle only a fixed-size input. In the example \"Federer joins all time greats\" the input neurons required are 5. If we have another input \"Nadal won the Australian open this year\", this example requires 7 input neurons.\n",
    "\n",
    "### Can we modify this architecture a bit to solve the above said problems?\n",
    "\n",
    "* **Pass each word at each timestep**\n",
    "\n",
    "    In the modified MLP architecture we will reuse the same set of weights and pass each words at a timestep from t-n to t. By doing this we are able to pass each word sequentially to the model instead of all at once.    "
   ]
  },
  {
   "cell_type": "markdown",
   "metadata": {},
   "source": [
    "<img src=\"image1.png\" alt=\"Image\" style=\"width:50%;\">\n"
   ]
  },
  {
   "cell_type": "markdown",
   "metadata": {},
   "source": [
    "### Is there something still missing? Yes!!!\n",
    "\n",
    "Language makes sense only when spoken in an order and the current word depends on the previous words spoken/written\n",
    "\n",
    "Let's look at a simple example where you will have to fill in the last word\n",
    "\n",
    "**Fill the last word**\n",
    "\n",
    "Scenario 1: _______\n",
    "\n",
    "Scenario 2: Sachin Tendulkar is a _______\n",
    "\n",
    "Answer: Sachin Tendulkar is a **cricketer**\n",
    "\n",
    "In Scenario 1, without having access to the previous words it is literally impossible to fill the blank as cricketer. However in scenario 2 it's easy to fill because we know the context of what are the previous words."
   ]
  },
  {
   "cell_type": "markdown",
   "metadata": {},
   "source": [
    "* **No connection from previous input words**\n",
    "\n",
    "    As we pass one word at a time step t, the final output \"sports\" is not only a function of the last word \"greats\" passed at time t. But it also depends on the other words \"Federer joins all time\" as well which are passed from time steps tn-6 tn-1"
   ]
  },
  {
   "cell_type": "markdown",
   "metadata": {},
   "source": [
    "* **Each word is isolated from the other**\n",
    "\n",
    "    Even after passing data sequentially by reusing the MLP architecture again and again for each time step, each of the input is still isolated and independent from each other\n",
    "\n",
    "**What is missing in this modified architecture?**\n",
    "\n",
    "* **No Temporal component:**\n",
    "\n",
    "    The temporal component is missing here. Since the MLP model assumes the entire input from X1 to x₁ comes all at once instead of one after the other at each time step"
   ]
  },
  {
   "cell_type": "markdown",
   "metadata": {},
   "source": [
    "### Let's summarize the problems\n",
    "\n",
    "* All input passed at once\n",
    "* Can't handle varying length inputs\n",
    "* No Temporal connections in the modified MLP\n",
    "\n",
    "### Can we overcome all these?\n",
    "\n",
    "Yes!!! RNN comes for the rescue"
   ]
  },
  {
   "cell_type": "markdown",
   "metadata": {},
   "source": [
    "What we need is an architecture where the current input at time t is processed along with all the prior inputs from t-n to t-1.\n",
    "\n",
    "To achieve this we will introduce a memory(hidden) state h. This memory state will carry the information from the previous time step to the current time step in a recursive manner. So the information is processed together at the current time step.\n",
    "\n",
    "Because of this recurrence relation the output is going to be a function of input at the current time step along with the inputs from previous time steps\n",
    "\n",
    "$$ O_t = f(x_t, h_{t-1})$$"
   ]
  },
  {
   "cell_type": "markdown",
   "metadata": {
    "vscode": {
     "languageId": "html"
    }
   },
   "source": [
    "<img src=\"image2.png\" alt=\"Image\" style=\"width:20%;\">\n"
   ]
  },
  {
   "cell_type": "markdown",
   "metadata": {},
   "source": [
    "### **What are RNNs**"
   ]
  },
  {
   "cell_type": "markdown",
   "metadata": {},
   "source": [
    "### When to use them?\n",
    "\n",
    "When we are dealing with sequential data. In other terms when we have a temporal component associated to it and the data makes sense only when followed a sequence.\n",
    "\n",
    "**Sequence:** Federer joins all time greats\n",
    "\n",
    "**No sequence:** all Federer greats time joins\n",
    "\n",
    "**Example Data:** Time series data(stock price, Weather data), Genomic data, Language texts.\n",
    "\n",
    "A noteable difference of RNN is how we use the hiddent state (hₜ₋₁) from the previous time step input(Xₜ₋₁) as one of the input for the current time step(t) along with the input (Xₜ)\n",
    "\n",
    "#### Advantages\n",
    "\n",
    "* **All inputs at once:**\n",
    "\n",
    "    A simple Feed Forward NN type of architecture assumes that all the inputs(all words from the example) come from a single time steps t. But in reality we speak/write one word after the other so there is mechanism of word order in this architecture.\n",
    "\n",
    "* **Inputs of varying length:**\n",
    "\n",
    "    A simple MLP architecture can handle only a fixed-size input. But RNNs can accommodate variable size input since we are reusing the same RNN unit again and again. In the example \"Federer joins all time greats\" which is 5 word long can also be passed to the same RNN unit with another example \"Nadal won the Australian open this year\" which is 7 words long.\n",
    "\n",
    "* **Weight sharing:**\n",
    "\n",
    "    RNN is a single unit cells used at every time step. Due to the nature of reusability the weights are shared across all the inputs. This also helps in reduced computation compared to a MLP architecture."
   ]
  },
  {
   "cell_type": "markdown",
   "metadata": {},
   "source": [
    "<img src=\"image3.png\" alt=\"Image\">\n"
   ]
  },
  {
   "cell_type": "markdown",
   "metadata": {},
   "source": [
    "### **What are the different types of RNN?**\n",
    "\n",
    "**Types of input & output**\n",
    "\n",
    "There are couple of variants of RNN based on the number of inputs and the outputs."
   ]
  },
  {
   "cell_type": "markdown",
   "metadata": {
    "vscode": {
     "languageId": "html"
    }
   },
   "source": [
    "<img src=\"image4.png\" alt=\"Image\">\n"
   ]
  },
  {
   "cell_type": "markdown",
   "metadata": {},
   "source": [
    "**One to One:** T<sub>x</sub>=1, T<sub>y</sub>=1\n",
    "\n",
    "**Example:** Normal Feedforward Neural Network"
   ]
  },
  {
   "cell_type": "markdown",
   "metadata": {},
   "source": [
    "**Many to One:** T<sub>x</sub>>1, T<sub>y</sub>=1\n",
    "\n",
    "**Example:** Sentiment classification\n",
    "\n",
    "Sentiment classification is a task of passing a phrase or sentence about a movie review to the model and output if the sentiment is positive or negative.\n",
    "\n",
    "**Many to Many:** T<sub>x</sub>>1, T<sub>y</sub>>1, T<sub>x</sub>!=T<sub>y</sub>\n",
    "\n",
    "**Example:** Language translation\n",
    "\n",
    "Language translation is the task of inputting text to a model in one language and predict the same text in another language of interest(Google translator).\n",
    "\n",
    "**Many to Many:** T<sub>x</sub>>1, T<sub>y</sub>>1, T<sub>x</sub>=T<sub>y</sub>\n",
    "\n",
    "**Example:** Named Entity Recognition\n",
    "\n",
    "Name entity recognition is a task of automatically identifying keywords in the text. The keywords could be the name of the person, name of a company, city, phone number, email etc from the given text."
   ]
  },
  {
   "cell_type": "markdown",
   "metadata": {},
   "source": [
    "https://colah.github.io/posts/2015-08-Understanding-LSTMs/"
   ]
  },
  {
   "cell_type": "markdown",
   "metadata": {
    "vscode": {
     "languageId": "html"
    }
   },
   "source": [
    "<img src=\"image5.png\" alt=\"Image\" style=\"width:50%;\">\n"
   ]
  },
  {
   "cell_type": "markdown",
   "metadata": {},
   "source": [
    "**Xt:**\n",
    "\n",
    "Xₜ is the input at time step t. In our example above \"Federer joins all time greats\" each word is passed at a time.\n",
    "Note: When we say we pass each word to the network we first convert each words to a vector representation of defined length and then pass it to the RNN unit.\n",
    "\n",
    "**ht-1**\n",
    "\n",
    "Hidden state from the previous time step which is vector representation of the information from previous time steps\n",
    "Note: When we are passing the first input the hidden states are initialized to all zeros\n",
    "\n",
    "**tanh:**\n",
    "\n",
    "The input from the current time step t and the hidden state from the previous time step t-1 are combined (addition) together and a non-linear activation function is applied. In case of Vanilla RNN it is the tanh\n",
    "\n",
    "**ht**\n",
    "\n",
    "Hiddent state from the current time step t. This state is updated at everytime step which is a function of the input at current time step t and the previous hidden state hₜ₋₁\n"
   ]
  },
  {
   "cell_type": "markdown",
   "metadata": {},
   "source": [
    "**Oₜ** \n",
    "\n",
    "Oₜ is the output of RNN. It can be single or multi output based on the use case. Also based on the use cases we can get output at everytime step or only at the last time step."
   ]
  },
  {
   "cell_type": "markdown",
   "metadata": {},
   "source": [
    "**But do we pass the words as is to the RNN cell?**\n",
    "\n",
    "No we don't, We all know machines can't understand text but only numbers\n",
    "\n",
    "Then, How the do we convert the text to numbers? Let's understand with an example.\n",
    "\n",
    "There are 2 ways this can be done\n",
    "\n",
    "1. Using pre-trained word embeddings like Word2Vec, Glove, ELMO etc.\n",
    "2. Learning the embeddings while training the LSTM model"
   ]
  },
  {
   "cell_type": "markdown",
   "metadata": {},
   "source": [
    "**Example sentence 1:** \"the cat sat on the same wall the rat sat\"\n",
    "\n",
    "**Example sentence 2:** \"the cat likes milk\"\n",
    "\n",
    "**Method 1**\n",
    "\n",
    "* For the above 2 example sentences we convert each word to vectors using the pretrained embedding and then pass them to the RNN cell.\n",
    "* We can set the trainable method to False if we don't want to fine-tune these embeddings while training.\n",
    "* We can choose the dimension of the word embedding for these pretrained word embedding models."
   ]
  },
  {
   "cell_type": "markdown",
   "metadata": {},
   "source": [
    "**Method 2**\n",
    "\n",
    "* First we create a vocabulary of all unique words in the dataset\n",
    "* For the above sentences the vocabulary size is 9 and we assign index to each word.\n",
    "\n",
    "{cat:0, likes:1, milk:2, on:3, rat:4, same:5, sat:6, the:7, wall:8}\n",
    "\n",
    "* There is a embedding layer of said dimension before passing it to the RNN cell\n",
    "* The word embeddings are assigned to each word indexes i.e 0 to 8"
   ]
  },
  {
   "cell_type": "markdown",
   "metadata": {},
   "source": [
    "* The word embeddings are randomly initialized in the embedding layer for the given dimension and is learnt during the training process by setting trainable=True\n",
    "\n",
    "Let's say we choose embedding dimension as 3 then embedding vector for each word would look like\n",
    "\n",
    "    cat(0) = [0.2, 0.64, 0.4]\n",
    "    likes(1) = [0.7, 0.34, 0.4]\n",
    "    milk(2) = [0.6, 0.5, 0.23]\n",
    "    on(3) = [0.1, 0.2, 0.04]\n",
    "    rat(4) = [0.94, 0.8, 0.9]\n",
    "    same(5) = [0.45, 0.23, 0.26]\n",
    "    sat(6) = [0.78, 0.9, 0.5]\n",
    "    the(7) = [0.25, 0.16, 0.2]\n",
    "    wall(8) = [0.11, 0.93, 0.01]"
   ]
  },
  {
   "cell_type": "markdown",
   "metadata": {},
   "source": [
    "**Note:** The embedding dimensions could be of any size. The most commonly used dimensions are 100 to 300.\n",
    "\n",
    "## What is being learnt?\n",
    "\n",
    "* Similar to the MLP architecture we have weight matrices in RNN which are learnt during the training\n",
    "\n",
    "    * **W<sub>hx</sub>:** The weight matrix at the input\n",
    "    * **W<sub>hh</sub>:** The weight matrix at the hidden state\n",
    "    * **W<sub>hy</sub>:** The weight matrix at the output\n",
    "\n",
    "* **Note:** The same set of weights will be applied at each time steps during the training."
   ]
  },
  {
   "cell_type": "markdown",
   "metadata": {},
   "source": [
    "<img src=\"image6.png\" alt=\"Image\" style=\"width:100%;\">\n",
    "<img src=\"image7.png\" alt=\"Image\" style=\"width:100%;\">\n",
    "\n"
   ]
  },
  {
   "cell_type": "markdown",
   "metadata": {},
   "source": [
    "### How Forward Propagation works in RNN?"
   ]
  },
  {
   "cell_type": "markdown",
   "metadata": {},
   "source": [
    "<img src=\"image8.png\" alt=\"Image\" style=\"width:100%;\">"
   ]
  },
  {
   "cell_type": "markdown",
   "metadata": {},
   "source": [
    "### Steps in Forward Propagation\n",
    "\n",
    "For each word in the input:\n",
    "\n",
    "1. Multiply previous hidden state with weight matrix W\n",
    "2. Multiply input word with weight matrix U\n",
    "3. Add 1. and 2. and bias\n",
    "4. Apply the Non-Linear Activation Function (tanh)\n",
    "    * i. A copy of 4. is multiplied with weight matrix V\n",
    "    * ii. Add bias to 4i. and apply the non-Linear Activation function(based on usecase)\n",
    "    * iii. Calculate Loss (based on usecase)\n",
    "5. A copy of 4. is passed as hidden state to the next time step\n",
    "\n",
    "**The above steps can be mathematically generalized as**\n",
    "\n",
    "Z<sub>ht</sub> = UX<sub>t</sub> + Wh<sub>t-1</sub> + b<sub>h</sub>\n",
    "\n",
    "h<sub>t</sub> = σ<sub>h</sub>(Z<sub>ht</sub>)\n",
    "\n",
    "Z<sub>yt</sub> = V<sup>T</sup>h<sub>t</sub> + b<sub>y</sub>\n",
    "\n",
    "O<sub>t</sub> = σ<sub>y</sub>(Z<sub>yt</sub>)\n",
    "\n",
    "L = L(O<sub>t</sub>, Y<sub>t</sub>)\n",
    "\n",
    "## Backward propagation"
   ]
  },
  {
   "cell_type": "markdown",
   "metadata": {},
   "source": [
    "<img src=\"image9.png\" alt=\"Image\" style=\"width:100%;\">"
   ]
  },
  {
   "cell_type": "markdown",
   "metadata": {},
   "source": [
    "## Usual steps involved in updating parameter weights:\n",
    "* Calculate the gradients of the loss with respect to the parameters\n",
    "* Multiply it with the Learning rate\n",
    "* Update the new weights\n",
    "\n",
    "**Equations:**\n",
    "\n",
    "$$ V = V - \\alpha \\frac{\\partial L}{\\partial V} $$\n",
    "\n",
    "$$ W = W - \\alpha \\frac{\\partial L}{\\partial W} $$\n",
    "\n",
    "$$ U = U - \\alpha \\frac{\\partial L}{\\partial U} $$\n",
    "\n",
    "$\\alpha$ = Learning rate\n"
   ]
  },
  {
   "cell_type": "markdown",
   "metadata": {},
   "source": [
    "<img src=\"image11.png\" alt=\"Image\" style=\"width:100%;\">"
   ]
  },
  {
   "cell_type": "markdown",
   "metadata": {},
   "source": [
    "**Backpropagation Through Time (BPTT) vs. Regular Backpropagation**\n",
    "\n",
    "**Key Differences:**\n",
    "\n",
    "1. **Shared Weights:**\n",
    "   - In traditional Multi-Layer Perceptrons (MLPs), each layer has its own distinct set of weights.\n",
    "   - In Recurrent Neural Networks (RNNs), the same weight matrices are reused at every time step.\n",
    "\n",
    "2. **Gradient Calculation:**\n",
    "   - In MLPs, backpropagation calculates gradients layer by layer, updating weights based on the errors at each layer.\n",
    "   - In BPTT, gradients are calculated across all time steps, accumulating the error signals to make a single update to the shared weights.\n",
    "\n",
    "**In Essence:**\n",
    "\n",
    "BPTT extends the concept of backpropagation to handle the sequential nature of RNNs. It accounts for the shared weights and calculates gradients by \"unfolding\" the RNN over time, effectively treating it as a very deep neural network.\n"
   ]
  },
  {
   "cell_type": "markdown",
   "metadata": {},
   "source": [
    "## Loss function\n",
    "\n",
    "**What is a Loss function and why we need?**\n",
    "\n",
    "* The Loss function helps to determine how good or bad the model is performing comparing it with the actual output.\n",
    "* These are many loss functions based on the problem we are solving and the most commonly used loss metrics are\n",
    "    * Regression: RMSE, MSE, SSE\n",
    "    * Binary classification: Binary cross-entrophy loss\n",
    "    * Multiclass classification: Multiclass cross-entrophy loss\n",
    "\n",
    "**What Loss function should we use?**\n",
    "\n",
    "Since we are solving a Multiclass classification problem, Multiclass cross-entrophy loss is the right"
   ]
  },
  {
   "cell_type": "markdown",
   "metadata": {},
   "source": [
    "$$L_{t}=-Y \\log(O_{t})$$\n",
    "\n",
    "### **Optimizing with respect to V**\n",
    "\n",
    "* As a first step we need to calculate the gradients of the loss Lₜ at time t with respect to the weight matrix V\n",
    "* As we go through the path we see that Oₜ depends on Zₜ to reach V and will make use of the chain rule to calculate the gradients. \n",
    "\n",
    "$$\\frac{\\partial{L_t}}{\\partial{V}} = \\frac{\\partial{L_t}}{\\partial{O_t}} * \\frac{\\partial{O_t}}{\\partial{Z_t}} * \\frac{\\partial{Z_t}}{\\partial{V}}$$"
   ]
  },
  {
   "cell_type": "markdown",
   "metadata": {},
   "source": [
    "#### **Update the weight matrix V**\n",
    "\n",
    "$$V = V - α ∂Lₜ/∂V$$"
   ]
  },
  {
   "cell_type": "markdown",
   "metadata": {},
   "source": [
    "## Optimizing with respect to W\n",
    "\n",
    "* As a first step we need to calculate the gradients of the loss Lₜ at time t with respect to the weight matrix W\n",
    "* As we go through the path we see that hₜ depends on W and hₜ₋₁ directly. But hₜ₋₁ indirectly depends on W.\n",
    "* When we look at hₜ₋₁, it directly depends on W and hₜ₋₂. But hₜ₋₂ indirectly depends on W.\n",
    "* This keeps chaining due to the dependencies on time and we can calculate the gradients with respect to each time step using the chain rule in calculus\n",
    "* A very important thing to note here is the weight matrix W is common across all the time steps"
   ]
  },
  {
   "cell_type": "markdown",
   "metadata": {},
   "source": [
    "\n",
    "**General Formula:**\n",
    "\n",
    "$$\n",
    "\\frac{\\partial{L_t}}{\\partial{W}} = \\frac{\\partial{L_t}}{\\partial{O_t}} * \\frac{\\partial{O_t}}{\\partial{Z_t}} * \\frac{\\partial{Z_t}}{\\partial{h_t}} * \\frac{\\partial{h_t}}{\\partial{W}}\n",
    "$$\n",
    "\n",
    "**Gradients of loss with respect to W at different t:**\n",
    "\n"
   ]
  },
  {
   "cell_type": "markdown",
   "metadata": {},
   "source": [
    "$$\n",
    "\\frac{\\partial h_{t}}{\\partial W} = \\frac{\\partial h_{t}}{\\partial W} + \\frac{\\partial h_{t}}{\\partial h_{t-1}} * \\frac{\\partial h_{t-1}}{\\partial W} \n",
    "$$\n",
    "\n",
    "$$\n",
    "\\frac{\\partial h_{t-1}}{\\partial W} = \\frac{\\partial h_{t-1}}{\\partial W} + \\frac{\\partial h_{t-1}}{\\partial h_{t-2}} * \\frac{\\partial h_{t-2}}{\\partial W} \n",
    "$$\n",
    "\n",
    "$$\n",
    "\\frac{\\partial h_{t-2}}{\\partial W} = \\frac{\\partial h_{t-2}}{\\partial W} + \\frac{\\partial h_{t-2}}{\\partial h_{t-3}} * \\frac{\\partial h_{t-3}}{\\partial W} \n",
    "$$\n",
    "\n",
    "$$\n",
    "\\frac{\\partial h_{t-3}}{\\partial W} = \\frac{\\partial h_{t-3}}{\\partial W} + \\frac{\\partial h_{t-3}}{\\partial h_{t-4}} * \\frac{\\partial h_{t-4}}{\\partial W} \n",
    "$$\n",
    "\n",
    "$$\n",
    "\\frac{\\partial h_{t-4}}{\\partial W} = \\frac{\\partial h_{t-4}}{\\partial W} + \\frac{\\partial h_{t-4}}{\\partial h_{t-5}} * \\frac{\\partial h_{t-5}}{\\partial W}\n",
    "$$"
   ]
  },
  {
   "cell_type": "markdown",
   "metadata": {},
   "source": [
    "$$\n",
    "\\frac{\\partial L_t}{\\partial W} = \\frac{\\partial L_t}{\\partial O_t} * \\frac{\\partial O_t}{\\partial Z_t} * \\frac{\\partial Z_t}{\\partial h_t} * \\left( \\frac{\\partial h_t}{\\partial W} + \\frac{\\partial h_t}{\\partial h_{t-1}} * \\frac{\\partial h_{t-1}}{\\partial W} + \\frac{\\partial h_t}{\\partial h_{t-2}} * \\frac{\\partial h_{t-2}}{\\partial h_{t-1}} * \\frac{\\partial h_{t-1}}{\\partial W} + \\frac{\\partial h_t}{\\partial h_{t-3}} * \\frac{\\partial h_{t-3}}{\\partial h_{t-2}} * \\frac{\\partial h_{t-2}}{\\partial h_{t-1}} * \\frac{\\partial h_{t-1}}{\\partial W} + \\frac{\\partial h_t}{\\partial h_{t-4}} * \\frac{\\partial h_{t-4}}{\\partial h_{t-3}} * \\frac{\\partial h_{t-3}}{\\partial h_{t-2}} * \\frac{\\partial h_{t-2}}{\\partial h_{t-1}} * \\frac{\\partial h_{t-1}}{\\partial W} + \\frac{\\partial h_t}{\\partial h_{t-5}} * \\frac{\\partial h_{t-5}}{\\partial h_{t-4}} * \\frac{\\partial h_{t-4}}{\\partial h_{t-3}} * \\frac{\\partial h_{t-3}}{\\partial h_{t-2}} * \\frac{\\partial h_{t-2}}{\\partial h_{t-1}} * \\frac{\\partial h_{t-1}}{\\partial W} \\right)\n",
    "$$"
   ]
  },
  {
   "cell_type": "markdown",
   "metadata": {},
   "source": [
    "___Expanding it___"
   ]
  },
  {
   "cell_type": "markdown",
   "metadata": {},
   "source": [
    "$$\n",
    "\\frac{\\partial{L_t}}{\\partial{W}} = \\frac{\\partial{L_t}}{\\partial{O_t}} * \\frac{\\partial{O_t}}{\\partial{Z_t}} * \\frac{\\partial{Z_t}}{\\partial{h_t}} \n",
    "$$\n",
    "\n",
    "$$\n",
    "\\frac{\\partial{L_t}}{\\partial{O_t}} * \\frac{\\partial{O_t}}{\\partial{Z_t}} * \\frac{\\partial{Z_t}}{\\partial{h_t}} * \\frac{\\partial{h_t}}{\\partial{h_{t-1}}} * \\frac{\\partial{h_{t-1}}}{\\partial{W}} \n",
    "$$\n",
    "\n",
    "$$\n",
    "\\frac{\\partial{L_t}}{\\partial{O_t}} * \\frac{\\partial{O_t}}{\\partial{Z_t}} * \\frac{\\partial{Z_t}}{\\partial{h_t}} * \\frac{\\partial{h_t}}{\\partial{h_{t-1}}} * \\frac{\\partial{h_{t-1}}}{\\partial{h_{t-2}}} * \\frac{\\partial{h_{t-2}}}{\\partial{W}} \n",
    "$$\n",
    "\n",
    "$$\n",
    "\\frac{\\partial{L_t}}{\\partial{O_t}} * \\frac{\\partial{O_t}}{\\partial{Z_t}} * \\frac{\\partial{Z_t}}{\\partial{h_t}} * \\frac{\\partial{h_t}}{\\partial{h_{t-1}}} * \\frac{\\partial{h_{t-1}}}{\\partial{h_{t-2}}} * \\frac{\\partial{h_{t-2}}}{\\partial{h_{t-3}}} * \\frac{\\partial{h_{t-3}}}{\\partial{W}} \n",
    "$$\n",
    "\n",
    "$$\n",
    "\\frac{\\partial{L_t}}{\\partial{O_t}} * \\frac{\\partial{O_t}}{\\partial{Z_t}} * \\frac{\\partial{Z_t}}{\\partial{h_t}} * \\frac{\\partial{h_t}}{\\partial{h_{t-1}}} * \\frac{\\partial{h_{t-1}}}{\\partial{h_{t-2}}} * \\frac{\\partial{h_{t-2}}}{\\partial{h_{t-3}}} * \\frac{\\partial{h_{t-3}}}{\\partial{h_{t-4}}} * \\frac{\\partial{h_{t-4}}}{\\partial{W}} \n",
    "$$\n",
    "\n",
    "$$\n",
    "\\frac{\\partial{L_t}}{\\partial{O_t}} * \\frac{\\partial{O_t}}{\\partial{Z_t}} * \\frac{\\partial{Z_t}}{\\partial{h_t}} * \\frac{\\partial{h_t}}{\\partial{h_{t-1}}} * \\frac{\\partial{h_{t-1}}}{\\partial{h_{t-2}}} * \\frac{\\partial{h_{t-2}}}{\\partial{h_{t-3}}} * \\frac{\\partial{h_{t-3}}}{\\partial{h_{t-4}}} * \\frac{\\partial{h_{t-4}}}{\\partial{h_{t-5}}} * \\frac{\\partial{h_{t-5}}}{\\partial{W}}\n",
    "$$"
   ]
  },
  {
   "cell_type": "markdown",
   "metadata": {},
   "source": [
    "Let generalize this to a single formula\n",
    "\n",
    "$$\n",
    "\\frac{\\partial{L_t}}{\\partial{W}} = \\frac{\\partial{L_t}}{\\partial{O_t}} * \\frac{\\partial{O_t}}{\\partial{Z_t}} * \\frac{\\partial{Z_t}}{\\partial{h_t}} * \\sum_{r=1}^{t} \\frac{\\partial{h_t}}{\\partial{h_{t-r}}} * \\frac{\\partial{h_{t-r}}}{\\partial{W}}\n",
    "$$"
   ]
  },
  {
   "cell_type": "markdown",
   "metadata": {},
   "source": [
    "#### **Update the weight matrix W**\n",
    "\n",
    "$$W = W - α ∂Lₜ/∂W$$\n",
    "\n",
    "#### Optimizing with respect to U\n",
    "\n",
    "Taking the derivative of U is similar to how we calculated the gradients with respect to W. It also requires taking sequential derivatives with respect to hₜ. So we can rewrite the same formula we derived and replace W with U."
   ]
  },
  {
   "cell_type": "markdown",
   "metadata": {},
   "source": [
    "$$\n",
    "\\frac{\\partial{L_t}}{\\partial{U}} = \\frac{\\partial{L_t}}{\\partial{O_t}} * \\frac{\\partial{O_t}}{\\partial{Z_t}} * \\frac{\\partial{Z_t}}{\\partial{h_t}} * \\sum_{r=1}^{t} \\frac{\\partial{h_t}}{\\partial{h_{t-r}}} * \\frac{\\partial{h_{t-r}}}{\\partial{U}}\n",
    "$$\n",
    "\n",
    "#### Update the weight matrix U\n",
    "\n",
    "$$U = U - α ∂Lₜ/∂U$$\n",
    "\n",
    "#### What if we had a multi-output problem? MultiLoss"
   ]
  },
  {
   "cell_type": "markdown",
   "metadata": {},
   "source": [
    "<img src=\"image12.png\" alt=\"Image\" style=\"width:70%;\">\n",
    "<img src=\"image13.png\" alt=\"Image\" style=\"width:70%;\">"
   ]
  },
  {
   "cell_type": "markdown",
   "metadata": {},
   "source": [
    "$$L = \\sum_{r=1}^{t} L_r$$\n",
    "\n",
    "* Can we use information from the future as well?\n",
    "\n",
    "Yes we can and it's called **Bidirectional RNN**"
   ]
  },
  {
   "cell_type": "markdown",
   "metadata": {},
   "source": [
    "<img src=\"image14.png\" alt=\"Image\" style=\"width:70%;\">\n",
    "<img src=\"image15.png\" alt=\"Image\" style=\"width:70%;\">"
   ]
  },
  {
   "cell_type": "markdown",
   "metadata": {},
   "source": [
    "Scenario 1: Sachin Tendular was ______\n",
    "\n",
    "Scenario 2: Sachin Tendular was ______ of Rajya Sabha\n",
    "\n",
    "Answer: Sachin Tendular was **MP** of Rajya Sabha\n",
    "\n",
    "In the scenario 2, it's easier to predict the word \"MP\" if we had access to input from both the left and the right of the current word instead of only the words from the left."
   ]
  },
  {
   "cell_type": "markdown",
   "metadata": {},
   "source": [
    "| Feature | UniDirectional RNN | BiDirectional RNN |\n",
    "||||\n",
    "| Information flow | Left to Right | Left to Right & Right to Left |\n",
    "| Output depends | h<sub>t-1</sub>, X<sub>t</sub> | h<sub>t-1</sub>, X<sub>t</sub>, h<sub>t+1</sub> |\n",
    "| Weights | W, U, V | W, U, V, W', U', V' |\n",
    "\n",
    "**▼ Code Implementation**"
   ]
  },
  {
   "cell_type": "code",
   "execution_count": 1,
   "metadata": {},
   "outputs": [
    {
     "name": "stderr",
     "output_type": "stream",
     "text": [
      "[nltk_data] Downloading package stopwords to\n",
      "[nltk_data]     C:\\Users\\Admin\\AppData\\Roaming\\nltk_data...\n",
      "[nltk_data]   Package stopwords is already up-to-date!\n"
     ]
    }
   ],
   "source": [
    "from tensorflow.keras.preprocessing.sequence import pad_sequences\n",
    "from tensorflow.keras.layers import Dense, Embedding, Input, InputLayer, RNN, SimpleRNN, LSTM, GRU, TimeDistributed\n",
    "from tensorflow.keras.models import Model, Sequential\n",
    "from tensorflow.keras.callbacks import EarlyStopping\n",
    "from tensorflow.keras.preprocessing.text import Tokenizer\n",
    "from tensorflow.keras.preprocessing.sequence import pad_sequences\n",
    "import tensorflow as tf\n",
    "import string\n",
    "import nltk\n",
    "nltk.download('stopwords')\n",
    "from nltk.corpus import stopwords\n",
    "stop_words = stopwords.words('english')\n",
    "\n",
    "from sklearn.model_selection import train_test_split\n",
    "\n",
    "import matplotlib.pyplot as plt\n",
    "import seaborn as sns\n"
   ]
  },
  {
   "cell_type": "code",
   "execution_count": 2,
   "metadata": {},
   "outputs": [],
   "source": [
    "def data_cleaning(text):\n",
    "\n",
    "    # Lower the words in the sentence\n",
    "    cleaned = text.lower()\n",
    "\n",
    "    # Replace the full stop with a full stop and space\n",
    "    cleaned = cleaned.replace(\".\", \". \")\n",
    "\n",
    "    # Remove the stop words\n",
    "    tokens = [word for word in cleaned.split() if not word in stop_words]\n",
    "    # tokens = []  # Initialize an empty list to store tokens\n",
    "    # for word in cleaned.split():\n",
    "    #     if word not in stop_words:\n",
    "    #         tokens.append(word)\n",
    "\n",
    "    # Remove the punctuations\n",
    "    tokens = [tok.translate(str.maketrans('', '', string.punctuation)) for tok in tokens]\n",
    "\n",
    "    # Joining the tokens back to form the sentence\n",
    "    cleaned = \" \".join(tokens)\n",
    "\n",
    "    # Remove any extra spaces\n",
    "    cleaned = cleaned.strip()\n",
    "\n",
    "    return cleaned"
   ]
  },
  {
   "cell_type": "markdown",
   "metadata": {},
   "source": [
    "\n",
    "### **Input Example**:\n",
    "```python\n",
    "text = \"Hello, world! This is a sample text. Let's clean it.\"\n",
    "stop_words = {\"is\", \"a\", \"it\", \"this\"}  # Define some stop words\n",
    "```\n",
    "\n",
    "### **Dry Run Steps:**\n",
    "\n",
    "#### 1. **Lowercase the Words:**\n",
    "```python\n",
    "cleaned = text.lower()\n",
    "# cleaned = \"hello, world! this is a sample text. let's clean it.\"\n",
    "```\n",
    "\n",
    "#### 2. **Replace Full Stop with Full Stop and Space:**\n",
    "```python\n",
    "cleaned = cleaned.replace(\".\", \". \")\n",
    "# cleaned = \"hello, world! this is a sample text.  let's clean it.\"\n",
    "```\n",
    "\n",
    "#### 3. **Remove Stop Words:**\n",
    "- Split the string into words: `cleaned.split()`  \n",
    "  → `['hello,', 'world!', 'this', 'is', 'a', 'sample', 'text.', \"let's\", 'clean', 'it.']`\n",
    "\n",
    "- Filter out the stop words (`stop_words = {\"is\", \"a\", \"it\", \"this\"}`):\n",
    "```python\n",
    "tokens = [word for word in cleaned.split() if not word in stop_words]\n",
    "# tokens = ['hello,', 'world!', 'sample', 'text.', \"let's\", 'clean', 'it.']\n",
    "```\n",
    "\n",
    "#### 4. **Remove Punctuation:**\n",
    "- Remove punctuation using `str.maketrans()`:\n",
    "  ```python\n",
    "  tokens = [tok.translate(str.maketrans('', '', string.punctuation)) for tok in tokens]\n",
    "  # tokens = ['hello', 'world', 'sample', 'text', 'lets', 'clean', 'it']\n",
    "  ```\n",
    "\n",
    "#### 5. **Join Tokens Back into a Sentence:**\n",
    "```python\n",
    "cleaned = \" \".join(tokens)\n",
    "# cleaned = \"hello world sample text lets clean it\"\n",
    "```\n",
    "\n",
    "#### 6. **Remove Extra Spaces:**\n",
    "- Remove any leading or trailing spaces (though none exist here):\n",
    "```python\n",
    "cleaned = cleaned.strip()\n",
    "# cleaned = \"hello world sample text lets clean it\"\n",
    "```\n",
    "\n",
    "### **Final Output:**\n",
    "```python\n",
    "\"hello world sample text lets clean it\"\n",
    "```\n",
    "\n",
    "### **Explanation of Each Step:**\n",
    "1. **Lowercasing** ensures case uniformity.\n",
    "2. **Adding a space after full stops** ensures proper tokenization later.\n",
    "3. **Removing stop words** reduces noise in the data.\n",
    "4. **Removing punctuation** ensures tokens are only words.\n",
    "5. **Joining tokens** reconstructs a cleaned sentence.\n",
    "6. **Stripping extra spaces** polishes the result for clean output.\n",
    "\n"
   ]
  },
  {
   "cell_type": "code",
   "execution_count": 10,
   "metadata": {},
   "outputs": [
    {
     "name": "stderr",
     "output_type": "stream",
     "text": [
      "100%|██████████| 2225/2225 [00:00<00:00, 7693.80it/s]\n"
     ]
    }
   ],
   "source": [
    "from tqdm import tqdm\n",
    "import time\n",
    "for index, data in tqdm(df.iterrows(), total=df.shape[0]):\n",
    "    df.loc[index, 'title'] = data_cleaning(data['title'])"
   ]
  },
  {
   "cell_type": "code",
   "execution_count": 11,
   "metadata": {},
   "outputs": [
    {
     "data": {
      "text/plain": [
       "<Axes: ylabel='title'>"
      ]
     },
     "execution_count": 11,
     "metadata": {},
     "output_type": "execute_result"
    },
    {
     "data": {
      "image/png": "[encoded data removed]",
      "text/plain": [
       "<Figure size 640x480 with 1 Axes>"
      ]
     },
     "metadata": {},
     "output_type": "display_data"
    }
   ],
   "source": [
    "sns.boxplot(df['title'].str.split(\" \").str.len())"
   ]
  },
  {
   "cell_type": "markdown",
   "metadata": {},
   "source": [
    "### **Code**:\n",
    "```python\n",
    "np.random.seed(100)\n",
    "train_X, test_X, train_Y, test_Y = train_test_split(df['title'], \n",
    "                                                 df['category'], \n",
    "                                                 test_size=0.2, \n",
    "                                                 random_state=100)\n",
    "\n",
    "train_X = train_X.reset_index(drop=True)\n",
    "test_X = test_X.reset_index(drop=True)\n",
    "train_Y = train_Y.reset_index(drop=True)\n",
    "test_Y = test_Y.reset_index(drop=True)\n",
    "```\n",
    "\n",
    "\n",
    "\n",
    "### **Assume Sample DataFrame `df`**:\n",
    "```plaintext\n",
    "   title                                            category\n",
    "0  \"This is a short title\"                               news\n",
    "1  \"This title is slightly longer than the previous one\"    news\n",
    "2  \"A very long title indeed with many words\"              sports\n",
    "3  \"Breaking news: Something happened\"                    news\n",
    "4  \"Sports update: Big game tomorrow\"                     sports\n",
    "5  \"Another news headline for testing\"                    news\n",
    "```\n",
    "\n",
    "\n",
    "\n",
    "### **Dry Run**:\n",
    "\n",
    "#### Step 1: Set the random seed\n",
    "```python\n",
    "np.random.seed(100)\n",
    "```\n",
    "- This ensures the random splitting is reproducible.\n",
    "\n",
    "\n",
    "\n",
    "#### Step 2: Split the data into training and testing sets\n",
    "```python\n",
    "train_X, test_X, train_Y, test_Y = train_test_split(df['title'], \n",
    "                                                    df['category'], \n",
    "                                                    test_size=0.2, \n",
    "                                                    random_state=100)\n",
    "```\n",
    "- **test_size=0.2**: 20% of the data is allocated to the testing set, and 80% to the training set.\n",
    "- **random_state=100**: Ensures consistent splitting.\n",
    "\n",
    "The split might result in:\n",
    "\n",
    "**Training Data**:\n",
    "```plaintext\n",
    "train_X: \n",
    "1  \"This title is slightly longer than the previous one\"\n",
    "5  \"Another news headline for testing\"\n",
    "4  \"Sports update: Big game tomorrow\"\n",
    "2  \"A very long title indeed with many words\"\n",
    "\n",
    "train_Y:\n",
    "1  \"news\"\n",
    "5  \"news\"\n",
    "4  \"sports\"\n",
    "2  \"sports\"\n",
    "```\n",
    "\n",
    "**Testing Data**:\n",
    "```plaintext\n",
    "test_X: \n",
    "3  \"Breaking news: Something happened\"\n",
    "0  \"This is a short title\"\n",
    "\n",
    "test_Y:\n",
    "3  \"news\"\n",
    "0  \"news\"\n",
    "```\n",
    "\n",
    "\n",
    "\n",
    "#### Step 3: Reset the indices\n",
    "```python\n",
    "train_X = train_X.reset_index(drop=True)\n",
    "test_X = test_X.reset_index(drop=True)\n",
    "train_Y = train_Y.reset_index(drop=True)\n",
    "test_Y = test_Y.reset_index(drop=True)\n",
    "```\n",
    "- The indices of the resulting training and testing sets are reset to start from 0.\n",
    "\n",
    "After resetting indices:\n",
    "\n",
    "**Training Data**:\n",
    "```plaintext\n",
    "train_X:\n",
    "0  \"This title is slightly longer than the previous one\"\n",
    "1  \"Another news headline for testing\"\n",
    "2  \"Sports update: Big game tomorrow\"\n",
    "3  \"A very long title indeed with many words\"\n",
    "\n",
    "train_Y:\n",
    "0  \"news\"\n",
    "1  \"news\"\n",
    "2  \"sports\"\n",
    "3  \"sports\"\n",
    "```\n",
    "\n",
    "**Testing Data**:\n",
    "```plaintext\n",
    "test_X:\n",
    "0  \"Breaking news: Something happened\"\n",
    "1  \"This is a short title\"\n",
    "\n",
    "test_Y:\n",
    "0  \"news\"\n",
    "1  \"news\"\n",
    "```\n",
    "\n",
    "\n",
    "\n",
    "### **Final Result**:\n",
    "The data is split into training and testing sets, with indices reset. The training set contains 4 samples (80%), and the testing set contains 2 samples (20%). This ensures a clean structure for further analysis or model training."
   ]
  },
  {
   "cell_type": "code",
   "execution_count": 12,
   "metadata": {},
   "outputs": [
    {
     "name": "stdout",
     "output_type": "stream",
     "text": [
      "Maximum sequence length: 7\n",
      "Total classes: 5\n"
     ]
    }
   ],
   "source": [
    "# Find the maximum sentence length\n",
    "max_sentence_len = df['title'].str.split(\" \").str.len().max()\n",
    "total_classes = df.category.nunique()\n",
    "\n",
    "print(f\"Maximum sequence length: {max_sentence_len}\")\n",
    "print(f\"Total classes: {total_classes}\")\n",
    "\n",
    "# Output:\n",
    "# Maximum sequence length: 7\n",
    "# Total classes: 5\n",
    "\n",
    "# Splitting the data to train and test\n",
    "np.random.seed(100)\n",
    "train_X, test_X, train_Y, test_Y = train_test_split(df['title'], \n",
    "                                                 df['category'], \n",
    "                                                 test_size=0.2, \n",
    "                                                 random_state=100)\n",
    "\n",
    "train_X = train_X.reset_index(drop=True)\n",
    "test_X = test_X.reset_index(drop=True)\n",
    "train_Y = train_Y.reset_index(drop=True)\n",
    "test_Y = test_Y.reset_index(drop=True)"
   ]
  },
  {
   "cell_type": "code",
   "execution_count": 13,
   "metadata": {},
   "outputs": [],
   "source": [
    "# One hot Encode the labels\n",
    "train_Y = pd.get_dummies(train_Y).values\n",
    "test_Y = pd.get_dummies(test_Y).values\n",
    "\n",
    "# Get validation labels\n",
    "validation = test_Y.argmax(axis=1) \n",
    "\n",
    "# Tokenize the input text and pad them"
   ]
  },
  {
   "cell_type": "markdown",
   "metadata": {},
   "source": [
    "\n",
    "```python\n",
    "train_Y = pd.get_dummies(train_Y).values\n",
    "test_Y = pd.get_dummies(test_Y).values\n",
    "```\n",
    "\n",
    "- `pd.get_dummies()` converts each unique category in the data into a binary column.\n",
    "\n",
    "#### Processing `train_Y`:\n",
    "- Unique categories: `['sports', 'news', 'entertainment']`.\n",
    "- Each category is assigned a binary vector:\n",
    "  - `sports`: `[1, 0, 0]`\n",
    "  - `news`: `[0, 1, 0]`\n",
    "  - `entertainment`: `[0, 0, 1]`\n",
    "- Transformed `train_Y`:\n",
    "```python\n",
    "array([[1, 0, 0],   # sports\n",
    "       [0, 1, 0],   # news\n",
    "       [0, 0, 1],   # entertainment\n",
    "       [1, 0, 0],   # sports\n",
    "       [0, 1, 0]])  # news\n",
    "```\n",
    "\n",
    "#### Processing `test_Y`:\n",
    "- Unique categories are the same: `['sports', 'news', 'entertainment']`.\n",
    "- Transformed `test_Y`:\n",
    "```python\n",
    "array([[0, 1, 0],   # news\n",
    "       [1, 0, 0],   # sports\n",
    "       [0, 0, 1],   # entertainment\n",
    "       [1, 0, 0]])  # sports\n",
    "```\n",
    "### Step 2: Extracting Validation Labels\n",
    "\n",
    "#### Code:\n",
    "```python\n",
    "validation = test_Y.argmax(axis=1)\n",
    "```\n",
    "\n",
    "#### Explanation:\n",
    "- `argmax(axis=1)` finds the index of the maximum value in each row.\n",
    "- Each index corresponds to the original category:\n",
    "  - `[0, 1, 0]` → `1` (news)\n",
    "  - `[1, 0, 0]` → `0` (sports)\n",
    "  - `[0, 0, 1]` → `2` (entertainment)\n",
    "\n",
    "#### Result:\n",
    "```python\n",
    "validation = array([1, 0, 2, 0])  # [news, sports, entertainment, sports]\n",
    "```\n",
    "\n",
    "\n",
    "\n",
    "### Dry Run Summary:\n",
    "\n",
    "1. **One-Hot Encoded `train_Y`**:\n",
    "```python\n",
    "array([[1, 0, 0],  # sports\n",
    "       [0, 1, 0],  # news\n",
    "       [0, 0, 1],  # entertainment\n",
    "       [1, 0, 0],  # sports\n",
    "       [0, 1, 0]]) # news\n",
    "```\n",
    "\n",
    "2. **One-Hot Encoded `test_Y`**:\n",
    "```python\n",
    "array([[0, 1, 0],  # news\n",
    "       [1, 0, 0],  # sports\n",
    "       [0, 0, 1],  # entertainment\n",
    "       [1, 0, 0]]) # sports\n",
    "```\n",
    "\n",
    "3. **Validation Labels (`validation`)**:\n",
    "```python\n",
    "array([1, 0, 2, 0])  # [news, sports, entertainment, sports]\n",
    "```\n"
   ]
  },
  {
   "cell_type": "code",
   "execution_count": null,
   "metadata": {},
   "outputs": [],
   "source": []
  },
  {
   "cell_type": "code",
   "execution_count": 17,
   "metadata": {},
   "outputs": [
    {
     "name": "stdout",
     "output_type": "stream",
     "text": [
      "Overall text vocab size: 3339\n"
     ]
    }
   ],
   "source": [
    "def tokenize_and_pad(inp_text, max_len, tok):\n",
    "    text_seq = tok.texts_to_sequences(inp_text)\n",
    "    text_seq = pad_sequences(text_seq, maxlen=max_len, padding='post')\n",
    "    return text_seq\n",
    "\n",
    "text_tok = Tokenizer()\n",
    "text_tok.fit_on_texts(train_X)\n",
    "\n",
    "train_text_X = tokenize_and_pad(inp_text=train_X, max_len=max_sentence_len, tok=text_tok)\n",
    "test_text_X = tokenize_and_pad(inp_text=test_X, max_len=max_sentence_len, tok=text_tok)\n",
    "\n",
    "vocab_size = len(text_tok.word_index) + 1\n",
    "\n",
    "print(\"Overall text vocab size:\", vocab_size)"
   ]
  },
  {
   "cell_type": "code",
   "execution_count": null,
   "metadata": {},
   "outputs": [],
   "source": [
    "from tensorflow.keras.preprocessing.text import Tokenizer\n",
    "from tensorflow.keras.preprocessing.sequence import pad_sequences\n",
    "\n",
    "# Function to tokenize and pad input text\n",
    "def tokenize_and_pad(input_text, max_length, tokenizer):\n",
    "    # Convert text into sequences of numbers based on the tokenizer\n",
    "    tokenized_sequences = tokenizer.texts_to_sequences(input_text)\n",
    "    # Pad the sequences to the specified max_length\n",
    "    padded_sequences = pad_sequences(tokenized_sequences, maxlen=max_length, padding='post')\n",
    "    return padded_sequences\n",
    "\n",
    "# Step 1: Initialize the tokenizer\n",
    "text_tokenizer = Tokenizer()\n",
    "\n",
    "# Step 2: Fit the tokenizer on training data\n",
    "text_tokenizer.fit_on_texts(train_X)\n",
    "\n",
    "# Step 3: Tokenize and pad training data\n",
    "train_padded_sequences = tokenize_and_pad(\n",
    "    input_text=train_X, \n",
    "    max_length=max_sentence_len, \n",
    "    tokenizer=text_tokenizer\n",
    ")\n",
    "\n",
    "# Step 4: Tokenize and pad test data\n",
    "test_padded_sequences = tokenize_and_pad(\n",
    "    input_text=test_X, \n",
    "    max_length=max_sentence_len, \n",
    "    tokenizer=text_tokenizer\n",
    ")\n",
    "\n",
    "# Step 5: Calculate the vocabulary size\n",
    "# Adding 1 because index 0 is reserved for padding\n",
    "vocabulary_size = len(text_tokenizer.word_index) + 1\n",
    "\n",
    "# Print the vocabulary size\n",
    "print(\"Overall text vocabulary size:\", vocabulary_size)\n"
   ]
  },
  {
   "cell_type": "code",
   "execution_count": null,
   "metadata": {},
   "outputs": [],
   "source": []
  },
  {
   "cell_type": "markdown",
   "metadata": {},
   "source": [
    "### Dry Run:\n",
    "\n",
    "#### Given Inputs:\n",
    "- `train_X` = [\"The quick brown fox jumps over the lazy dog\", \"A journey of a thousand miles begins with a single step\"]\n",
    "- `test_X` = [\"The lazy dog lies down\", \"A thousand miles away\"]\n",
    "- `max_sentence_len` = 10\n",
    "\n",
    "#### Steps:\n",
    "\n",
    "1. **Step 1: Initialize Tokenizer**  \n",
    "   - `text_tokenizer = Tokenizer()`  \n",
    "   Initializes a Tokenizer object to handle the text processing.\n",
    "\n",
    "2. **Step 2: Fit Tokenizer on Training Data**  \n",
    "   - `text_tokenizer.fit_on_texts(train_X)`  \n",
    "   This builds the vocabulary from the `train_X` data. After fitting, `text_tokenizer.word_index` will look something like:\n",
    "   ```python\n",
    "   {\n",
    "       'the': 1,\n",
    "       'a': 2,\n",
    "       'of': 3,\n",
    "       'a': 4,\n",
    "       'thousand': 5,\n",
    "       'and': 6,\n",
    "       'miles': 7,\n",
    "       'quick': 8,\n",
    "       ...\n",
    "   }\n",
    "   ```\n",
    "\n",
    "3. **Step 3: Tokenize and Pad Training Data**  \n",
    "   - `train_padded_sequences = tokenize_and_pad(...)`  \n",
    "   Convert each sentence into a sequence of integers (tokenized) and pad them to 10 tokens:\n",
    "   ```python\n",
    "   # Tokenized and padded sequences might look like this:\n",
    "   [[1, 8, 9, 4, 10, 11, 3, 12, 13, 14],  # \"The quick brown fox ...\"\n",
    "    [2, 15, 3, 7, 16, 4, 17, 18, 19, 20]]  # \"A journey of a thousand ...\"\n",
    "   ```\n",
    "\n",
    "4. **Step 4: Tokenize and Pad Test Data**  \n",
    "   - `test_padded_sequences = tokenize_and_pad(...)`  \n",
    "   Similar tokenization and padding applied to the test data:\n",
    "   ```python\n",
    "   [[1, 13, 14, 6, 21, 22, 23, 24, 0, 0],  # \"The lazy dog lies down\"\n",
    "    [2, 5, 7, 8, 25, 0, 0, 0, 0, 0]]  # \"A thousand miles away\"\n",
    "   ```\n",
    "\n",
    "5. **Step 5: Vocabulary Size Calculation**  \n",
    "   - `vocabulary_size = len(text_tokenizer.word_index) + 1`  \n",
    "   The vocabulary size is the total unique words in the `train_X` data + 1 for the padding token:\n",
    "   ```python\n",
    "   vocabulary_size = 18\n",
    "   ```\n",
    "\n",
    "#### Output:\n",
    "```plaintext\n",
    "Overall text vocabulary size: 18\n",
    "```"
   ]
  },
  {
   "cell_type": "code",
   "execution_count": 15,
   "metadata": {},
   "outputs": [],
   "source": [
    "# Latent dimension: Dimension of the weight matrix U, V, W\n",
    "latent_dim = 50\n",
    "\n",
    "# Embedding dimension: Dimension of the word embeddings at the embedding layer\n",
    "embedding_dim = 100"
   ]
  },
  {
   "cell_type": "markdown",
   "metadata": {},
   "source": [
    "- Define the RNN model architecture\n",
    "\n",
    "    * The embedding layer with 100 dimension\n",
    "    * A single Vanilla RNN unit with 50 dimensions\n",
    "    * A final output layer with 5 units (5 classes) with the softmax activation function"
   ]
  },
  {
   "cell_type": "code",
   "execution_count": 18,
   "metadata": {},
   "outputs": [
    {
     "data": {
      "text/html": [
       "<pre style=\"white-space:pre;overflow-x:auto;line-height:normal;font-family:Menlo,'DejaVu Sans Mono',consolas,'Courier New',monospace\"><span style=\"font-weight: bold\">Model: \"sequential_1\"</span>\n",
       "</pre>\n"
      ],
      "text/plain": [
       "\u001b[1mModel: \"sequential_1\"\u001b[0m\n"
      ]
     },
     "metadata": {},
     "output_type": "display_data"
    },
    {
     "data": {
      "text/html": [
       "<pre style=\"white-space:pre;overflow-x:auto;line-height:normal;font-family:Menlo,'DejaVu Sans Mono',consolas,'Courier New',monospace\">┏━━━━━━━━━━━━━━━━━━━━━━━━━━━━━━━━━┳━━━━━━━━━━━━━━━━━━━━━━━━┳━━━━━━━━━━━━━━━┓\n",
       "┃<span style=\"font-weight: bold\"> Layer (type)                    </span>┃<span style=\"font-weight: bold\"> Output Shape           </span>┃<span style=\"font-weight: bold\">       Param # </span>┃\n",
       "┡━━━━━━━━━━━━━━━━━━━━━━━━━━━━━━━━━╇━━━━━━━━━━━━━━━━━━━━━━━━╇━━━━━━━━━━━━━━━┩\n",
       "│ embedding_1 (<span style=\"color: #0087ff; text-decoration-color: #0087ff\">Embedding</span>)         │ ?                      │   <span style=\"color: #00af00; text-decoration-color: #00af00\">0</span> (unbuilt) │\n",
       "├─────────────────────────────────┼────────────────────────┼───────────────┤\n",
       "│ simple_rnn_1 (<span style=\"color: #0087ff; text-decoration-color: #0087ff\">SimpleRNN</span>)        │ ?                      │   <span style=\"color: #00af00; text-decoration-color: #00af00\">0</span> (unbuilt) │\n",
       "├─────────────────────────────────┼────────────────────────┼───────────────┤\n",
       "│ dense_1 (<span style=\"color: #0087ff; text-decoration-color: #0087ff\">Dense</span>)                 │ ?                      │   <span style=\"color: #00af00; text-decoration-color: #00af00\">0</span> (unbuilt) │\n",
       "└─────────────────────────────────┴────────────────────────┴───────────────┘\n",
       "</pre>\n"
      ],
      "text/plain": [
       "┏━━━━━━━━━━━━━━━━━━━━━━━━━━━━━━━━━┳━━━━━━━━━━━━━━━━━━━━━━━━┳━━━━━━━━━━━━━━━┓\n",
       "┃\u001b[1m \u001b[0m\u001b[1mLayer (type)                   \u001b[0m\u001b[1m \u001b[0m┃\u001b[1m \u001b[0m\u001b[1mOutput Shape          \u001b[0m\u001b[1m \u001b[0m┃\u001b[1m \u001b[0m\u001b[1m      Param #\u001b[0m\u001b[1m \u001b[0m┃\n",
       "┡━━━━━━━━━━━━━━━━━━━━━━━━━━━━━━━━━╇━━━━━━━━━━━━━━━━━━━━━━━━╇━━━━━━━━━━━━━━━┩\n",
       "│ embedding_1 (\u001b[38;5;33mEmbedding\u001b[0m)         │ ?                      │   \u001b[38;5;34m0\u001b[0m (unbuilt) │\n",
       "├─────────────────────────────────┼────────────────────────┼───────────────┤\n",
       "│ simple_rnn_1 (\u001b[38;5;33mSimpleRNN\u001b[0m)        │ ?                      │   \u001b[38;5;34m0\u001b[0m (unbuilt) │\n",
       "├─────────────────────────────────┼────────────────────────┼───────────────┤\n",
       "│ dense_1 (\u001b[38;5;33mDense\u001b[0m)                 │ ?                      │   \u001b[38;5;34m0\u001b[0m (unbuilt) │\n",
       "└─────────────────────────────────┴────────────────────────┴───────────────┘\n"
      ]
     },
     "metadata": {},
     "output_type": "display_data"
    },
    {
     "data": {
      "text/html": [
       "<pre style=\"white-space:pre;overflow-x:auto;line-height:normal;font-family:Menlo,'DejaVu Sans Mono',consolas,'Courier New',monospace\"><span style=\"font-weight: bold\"> Total params: </span><span style=\"color: #00af00; text-decoration-color: #00af00\">0</span> (0.00 B)\n",
       "</pre>\n"
      ],
      "text/plain": [
       "\u001b[1m Total params: \u001b[0m\u001b[38;5;34m0\u001b[0m (0.00 B)\n"
      ]
     },
     "metadata": {},
     "output_type": "display_data"
    },
    {
     "data": {
      "text/html": [
       "<pre style=\"white-space:pre;overflow-x:auto;line-height:normal;font-family:Menlo,'DejaVu Sans Mono',consolas,'Courier New',monospace\"><span style=\"font-weight: bold\"> Trainable params: </span><span style=\"color: #00af00; text-decoration-color: #00af00\">0</span> (0.00 B)\n",
       "</pre>\n"
      ],
      "text/plain": [
       "\u001b[1m Trainable params: \u001b[0m\u001b[38;5;34m0\u001b[0m (0.00 B)\n"
      ]
     },
     "metadata": {},
     "output_type": "display_data"
    },
    {
     "data": {
      "text/html": [
       "<pre style=\"white-space:pre;overflow-x:auto;line-height:normal;font-family:Menlo,'DejaVu Sans Mono',consolas,'Courier New',monospace\"><span style=\"font-weight: bold\"> Non-trainable params: </span><span style=\"color: #00af00; text-decoration-color: #00af00\">0</span> (0.00 B)\n",
       "</pre>\n"
      ],
      "text/plain": [
       "\u001b[1m Non-trainable params: \u001b[0m\u001b[38;5;34m0\u001b[0m (0.00 B)\n"
      ]
     },
     "metadata": {},
     "output_type": "display_data"
    }
   ],
   "source": [
    "seed=56\n",
    "tf.random.set_seed(seed)\n",
    "np.random.seed(seed)\n",
    "\n",
    "model = Sequential()\n",
    "model.add(Embedding(vocab_size, embedding_dim, trainable=True))\n",
    "model.add(SimpleRNN(latent_dim, recurrent_dropout=0.2, return_sequences=False, activation='tanh'))\n",
    "model.add(Dense(total_classes, activation='softmax'))\n",
    "model.summary()"
   ]
  },
  {
   "cell_type": "markdown",
   "metadata": {},
   "source": [
    "```python\n",
    "seed = 56\n",
    "tf.random.set_seed(seed)  # Sets the seed for TensorFlow's random number generator\n",
    "np.random.seed(seed)     # Sets the seed for NumPy's random number generator\n",
    "```\n",
    "\n",
    "### Why Use a Seed?\n",
    "1. **Reproducibility**:  \n",
    "   When you train a machine learning or deep learning model, random processes (like initializing weights, shuffling data, and dropout) are involved. Without a seed, the results will vary slightly every time you run the code. By setting a seed, you ensure the same random numbers are used, leading to consistent results.\n",
    "\n",
    "2. **Debugging**:  \n",
    "   If a specific model behavior or issue arises, using a seed allows you to reproduce the exact same conditions, making it easier to debug.\n",
    "\n",
    "3. **Fair Comparisons**:  \n",
    "   When comparing multiple models or parameter settings, a seed ensures that the randomness is consistent across experiments. This makes it easier to determine which model or configuration performs better under identical conditions.\n",
    "\n",
    "### Randomness in the Code:\n",
    "In the given model:\n",
    "1. **Embedding Layer Initialization**:  \n",
    "   The `Embedding` layer uses random initialization for the word embeddings.\n",
    "2. **SimpleRNN Layer Initialization**:  \n",
    "   The weights of the RNN are initialized randomly.\n",
    "3. **Dropout in RNN**:  \n",
    "   The `recurrent_dropout` parameter in the `SimpleRNN` layer involves random dropping of recurrent connections.\n",
    "\n",
    "Without a seed, these processes would differ each time the model is run, leading to different results.\n",
    "\n",
    "### Summary:\n",
    "Setting the seed ensures that:\n",
    "- The random initialization of weights in layers is consistent.\n",
    "- Any randomness in data preprocessing or augmentation is reproducible.\n",
    "- The behavior of stochastic operations (e.g., dropout) is consistent across runs.\n",
    "\n",
    "This is especially useful when sharing results or collaborating on a project to ensure everyone observes the same outcomes."
   ]
  },
  {
   "cell_type": "markdown",
   "metadata": {},
   "source": [
    "#### **Model training**\n",
    "\n",
    "* **Optimizer:** Adam\n",
    "* **Loss:** Categorical cross-entropy since it is a multiclass classification problem\n",
    "* **Early stopping:** Used to stop training if validation accuracy does not improve while training to avoid overfitting"
   ]
  },
  {
   "cell_type": "code",
   "execution_count": null,
   "metadata": {},
   "outputs": [],
   "source": [
    "tf.random.set_seed(seed)\n",
    "np.random.seed(seed)\n",
    "\n",
    "model.compile(optimizer='Adam', loss='categorical_crossentropy', metrics=['acc'])\n",
    "\n",
    "early_stopping = EarlyStopping(monitor='val_acc', \n",
    "                               mode='max', \n",
    "                               verbose=1, \n",
    "                               patience=5)\n",
    "\n",
    "model.fit(x=train_text_X, y=train_Y, \n",
    "          validation_data=(test_text_X, test_Y),\n",
    "          batch_size=64, \n",
    "          epochs=10, \n",
    "          callbacks=[early_stopping])"
   ]
  },
  {
   "cell_type": "markdown",
   "metadata": {},
   "source": [
    "\n",
    "### 1. **Model Compilation**\n",
    "```python\n",
    "model.compile(optimizer='Adam', loss='categorical_crossentropy', metrics=['acc'])\n",
    "```\n",
    "- **`optimizer='Adam'`**: Specifies the Adam optimizer, which is widely used because it combines the benefits of both **Adagrad** and **RMSProp** optimizers. Adam adapts learning rates during training, making it effective for a variety of tasks.\n",
    "  \n",
    "- **`loss='categorical_crossentropy'`**: Specifies the loss function to be minimized. Since this is a classification problem with one-hot encoded labels, categorical cross-entropy is used. It measures the difference between the true labels and the predicted probabilities.\n",
    "\n",
    "- **`metrics=['acc']`**: Specifies accuracy as the evaluation metric during training and validation.\n",
    "\n",
    "\n",
    "\n",
    "### 2. **Early Stopping Callback**\n",
    "```python\n",
    "early_stopping = EarlyStopping(monitor='val_acc', \n",
    "                               mode='max', \n",
    "                               verbose=1, \n",
    "                               patience=5)\n",
    "```\n",
    "- **`EarlyStopping`**: This is a callback that stops training when a monitored metric stops improving.\n",
    "  \n",
    "- **`monitor='val_acc'`**: Monitors the validation accuracy (`val_acc`).\n",
    "  \n",
    "- **`mode='max'`**: Looks for the maximum value of the monitored metric (validation accuracy). Training stops if the validation accuracy doesn’t improve.\n",
    "  \n",
    "- **`verbose=1`**: Enables detailed messages about when early stopping occurs.\n",
    "  \n",
    "- **`patience=5`**: Specifies how many epochs to wait before stopping if no improvement is observed. Here, training stops if validation accuracy doesn’t improve for 5 consecutive epochs.\n",
    "\n",
    "\n",
    "\n",
    "### 3. **Model Training**\n",
    "```python\n",
    "model.fit(x=train_text_X, y=train_Y, \n",
    "          validation_data=(test_text_X, test_Y),\n",
    "          batch_size=64, \n",
    "          epochs=10, \n",
    "          callbacks=[early_stopping])\n",
    "```\n",
    "\n",
    "#### Parameters:\n",
    "- **`x=train_text_X, y=train_Y`**: Training data (`train_text_X`) and corresponding labels (`train_Y`).\n",
    "  \n",
    "- **`validation_data=(test_text_X, test_Y)`**: Validation data and labels used to evaluate the model’s performance after each epoch. This does not affect training but helps monitor overfitting.\n",
    "\n",
    "- **`batch_size=64`**: The number of samples processed before the model updates its weights. A batch size of 64 means the data is split into chunks of 64 samples for processing.\n",
    "\n",
    "- **`epochs=10`**: The maximum number of passes over the entire training dataset.\n",
    "\n",
    "- **`callbacks=[early_stopping]`**: Passes the early stopping callback, so training stops early if validation accuracy does not improve for 5 epochs.\n",
    "\n",
    "\n",
    "\n",
    "### Workflow:\n",
    "1. The model is trained on `train_text_X` and `train_Y`.\n",
    "2. After each epoch:\n",
    "   - The loss and accuracy are calculated on the training data.\n",
    "   - Validation loss and accuracy are calculated using `test_text_X` and `test_Y`.\n",
    "   - Early stopping checks if validation accuracy has improved.\n",
    "3. If validation accuracy does not improve for 5 epochs, training halts early to avoid overfitting or wasting resources.\n",
    "4. If the model runs for all 10 epochs, it stops after completing them.\n",
    "\n",
    "\n",
    "\n",
    "### Why Use These Settings?\n",
    "1. **Adam Optimizer**: Efficient and works well for most tasks.\n",
    "2. **Categorical Cross-Entropy**: Appropriate for multi-class classification.\n",
    "3. **Early Stopping**: Prevents overfitting and reduces computation time by stopping when further training is unlikely to improve performance.\n",
    "4. **Validation Data**: Helps monitor the model's ability to generalize to unseen data.\n",
    "\n",
    "This setup ensures efficient training while avoiding overfitting or unnecessary computation."
   ]
  },
  {
   "cell_type": "code",
   "execution_count": null,
   "metadata": {},
   "outputs": [],
   "source": [
    "# Make predictions on the test dataset\n",
    "prediction = model.predict(test_text_X)\n",
    "prediction = prediction.argmax(axis=1)\n",
    "\n",
    "print(f\"Accuracy: {accuracy_score(prediction, validation)}\") \n",
    "\n",
    "# Confusion matrix of the prediction and actual\n",
    "cm = confusion_matrix(validation, prediction) \n",
    "\n",
    "plt.figure(figsize=(15, 15))\n",
    "sns.heatmap(cm, annot=True, cmap=\"Oranges\")\n",
    "plt.xlabel(\"Prediction\")\n",
    "plt.ylabel(\"Actual\")\n",
    "plt.title(\"Confusion Matrix\")"
   ]
  },
  {
   "cell_type": "markdown",
   "metadata": {},
   "source": [
    "## Conclusions\n",
    "\n",
    "**Things to keep in mind**\n",
    "\n",
    "* RNN takes the current input at time t as well as the hidden state from the previous time stamp t-1.\n",
    "* There are 3 weight Matrices W, U, V from the input, hidden state and output and W, U, V, W', U', V' respectively interms of bi-directional RNN\n",
    "* BiDirectional RNN process information from left to right and also from riogh\n",
    "* The same RNN unit is reused for all the input so weights are shared across all time steps.\n",
    "* The gradients are calculated over time which is called the BPPT.\n",
    "* Backpropagation through time: what it does and how to do it- https://axon.cs.byu.edu/Dan/678/papers/Recurrent/Werbos.pdf"
   ]
  }
 ],
 "metadata": {
  "kernelspec": {
   "display_name": "Python 3",
   "language": "python",
   "name": "python3"
  },
  "language_info": {
   "codemirror_mode": {
    "name": "ipython",
    "version": 3
   },
   "file_extension": ".py",
   "mimetype": "text/x-python",
   "name": "python",
   "nbconvert_exporter": "python",
   "pygments_lexer": "ipython3",
   "version": "3.12.7"
  }
 },
 "nbformat": 4,
 "nbformat_minor": 4
}
